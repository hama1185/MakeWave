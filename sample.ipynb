{
 "cells": [
  {
   "cell_type": "code",
   "execution_count": 2,
   "metadata": {},
   "outputs": [
    {
     "name": "stdout",
     "output_type": "stream",
     "text": [
      "[0.00000000e+00 1.13381256e-05 2.26762512e-05 ... 4.99977324e-01\n",
      " 4.99988662e-01 5.00000000e-01]\n"
     ]
    },
    {
     "data": {
      "image/png": "[encoded data removed]",
      "text/plain": [
       "<Figure size 432x288 with 1 Axes>"
      ]
     },
     "metadata": {
      "needs_background": "light"
     },
     "output_type": "display_data"
    }
   ],
   "source": [
    "import numpy as np\n",
    "from matplotlib import pyplot as plt\n",
    "import wave\n",
    "import struct\n",
    "\n",
    "Amax = 1000 #最大振幅\n",
    "Fs = 44100 #サンプリング周波数\n",
    "sec = 0.5 #時間\n",
    "\n",
    "# 金属\n",
    "# A = -1000 #最大振幅\n",
    "# B = 30 #減衰率\n",
    "# w = 2000 #角周波数\n",
    "\n",
    "# 木\n",
    "A = -500\n",
    "B = 40\n",
    "w = 250\n",
    "\n",
    "# ゴム\n",
    "\"\"\" A = -1000\n",
    "B = 40\n",
    "w = 100 \"\"\"\n",
    "\n",
    "Qt = []\n",
    "\n",
    "step = np.linspace(0,sec,Fs)\n",
    "print(step)\n",
    "for t in step:\n",
    "    qt = A*np.exp(-B*t)*np.sin(w*t)\n",
    "    Qt.append(qt)\n",
    "\n",
    "plt.plot(step,Qt)\n",
    "plt.show()\n",
    "\n",
    "Qt = [int(step/Amax *32767.0) for step in Qt] #16bit符号付き変数に変換\n",
    "\n",
    "#バイナリ化\n",
    "binwave = struct.pack(\"h\"*len(Qt), *Qt)\n",
    "\n",
    "#減衰正弦波をwavファイルとして書き出し\n",
    "w = wave.Wave_write(str(A)+\"exp(-\"+str(B)+\"t)sin(\"+str(w)+\"t).wav\")\n",
    "p = (1,2,Fs,len(binwave),'NONE','not compressed')\n",
    "w.setparams(p)\n",
    "w.writeframes(binwave)\n",
    "w.close()"
   ]
  },
  {
   "cell_type": "code",
   "execution_count": 21,
   "metadata": {},
   "outputs": [
    {
     "name": "stdout",
     "output_type": "stream",
     "text": [
      "チャンネル数 =  2\n",
      "サンプル幅 (バイト数) =  2\n",
      "サンプリングレート(Hz) = 44100\n",
      "サンプル数 = 44100\n",
      "録音時間 = 1\n"
     ]
    },
    {
     "data": {
      "image/png": "[encoded data removed]",
      "text/plain": [
       "<Figure size 432x288 with 1 Axes>"
      ]
     },
     "metadata": {
      "needs_background": "light"
     },
     "output_type": "display_data"
    }
   ],
   "source": [
    "from cmath import exp\n",
    "import numpy as np\n",
    "import wave\n",
    "import struct\n",
    "from matplotlib import pyplot as plt\n",
    " \n",
    "fname = 'sinwave.wav'\n",
    "wf = wave.open(fname, 'w')\n",
    "ch = 2\n",
    "width = 2\n",
    "samplerate = 44100\n",
    "wf.setnchannels(ch)\n",
    "wf.setsampwidth(width)\n",
    "wf.setframerate(samplerate)\n",
    "\n",
    "time = 1\n",
    "numsamples = time * samplerate\n",
    "\n",
    "print( u\"チャンネル数 = \", ch)\n",
    "print( u\"サンプル幅 (バイト数) = \", width)\n",
    "print( u\"サンプリングレート(Hz) =\", samplerate)\n",
    "print( u\"サンプル数 =\", numsamples)\n",
    "print( u\"録音時間 =\", time)\n",
    " \n",
    "# 信号データを作る (numpy の ndarray で)\n",
    "Am = 32767\n",
    "b = 25\n",
    "freq = 50                      # 周波数 freq を 440 Hz にする\n",
    "x = np.linspace(0, time, numsamples+1) # 0≦t≦time をnumsamples等分\n",
    "y = Am * np.exp(-b*x) * np.sin(2 * np.pi * freq * x)       # 周波数 freq (Hz) の正弦波\n",
    "# y=np.rint(32767*y/max(abs(y)))       # [-32767,32767] の範囲に収める\n",
    "y=y.astype(np.int16)                 # 16ビット整数に型変換する\n",
    "y=y[0:numsamples]                    # numsamples 個のデータに打ち切る\n",
    " \n",
    "# ndarray から bytes オブジェクトに変換\n",
    "plt.plot(y)\n",
    "data=struct.pack(\"h\" * numsamples , *y)\n",
    "\n",
    "# データを書き出す\n",
    "wf.writeframes(data)\n",
    "wf.close()"
   ]
  }
 ],
 "metadata": {
  "kernelspec": {
   "display_name": "Python 3.9.4 ('Scraping')",
   "language": "python",
   "name": "python3"
  },
  "language_info": {
   "codemirror_mode": {
    "name": "ipython",
    "version": 3
   },
   "file_extension": ".py",
   "mimetype": "text/x-python",
   "name": "python",
   "nbconvert_exporter": "python",
   "pygments_lexer": "ipython3",
   "version": "3.9.4"
  },
  "orig_nbformat": 4,
  "vscode": {
   "interpreter": {
    "hash": "eb6318601827dba975ddda1ca781faa8753c2334060541bd178937d47b7e289b"
   }
  }
 },
 "nbformat": 4,
 "nbformat_minor": 2
}
